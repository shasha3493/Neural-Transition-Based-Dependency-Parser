{
 "cells": [
  {
   "cell_type": "markdown",
   "id": "6d0ab087-68f8-4fb6-8772-f438004ec84c",
   "metadata": {},
   "source": [
    "# Neural Transition-Based Dependency Parser\n",
    "\n",
    "A dependency parser analyzes the grammatical structure of a sentence, establishing relationships between head words, and words which modify those heads. \n",
    "\n",
    "![image.png](images/dependency_parser.png)\n",
    "\n",
    "There are multiple types of dependency parsers, including transition-based parsers, graph-based parsers, and feature-based parsers. \n",
    "A transition-based parser, which incrementally builds up a parse one step at a time. At every step it maintains a partial parse, which is represented as follows:\n",
    "\n",
    "1. A stack of words that are currently being processed.\n",
    "2. A buffer of words yet to be processed.\n",
    "3. A list of dependencies predicted by the parser.\n",
    "\n",
    "Initially, the stack only contains ROOT, the dependencies list is empty, and the buffer contains all words of the sentence in order. At each step, the parser applies a transition to the partial parse until its buffer is empty and the stack size is 1. The following transitions can be applied:\n",
    "\n",
    "1. **SHIFT**: removes the first word from the buffer and pushes it onto the stack.\n",
    "2. **LEFT-ARC**: marks the second (second most recently added) item on the stack as a dependent of the first item and removes the second item from the stack, adding a first word → second word dependency to the dependency list.\n",
    "3. **RIGHT-ARC**: marks the first (most recently added) item on the stack as a dependent of the second item and removes the first item from the stack, adding a second word → first word dependency to the dependency list.\n",
    "\n",
    "\n",
    "In this project, a **Neural Transition-Based Dependency Parser** is implemented i.e. a neural network will predict which transition should be applied next to a partial parse"
   ]
  },
  {
   "cell_type": "markdown",
   "id": "2645e97a-30e2-4c74-ba34-ad2069ba821d",
   "metadata": {},
   "source": [
    "## Setup\n",
    "\n",
    "The Code is written in Python 3.12.2 . If you don't have Python installed you can find it [here](https://www.python.org/downloads/). If you are using a lower version of Python you can upgrade using the pip package, ensuring you have the latest version of pip\n",
    "\n",
    "```\n",
    "conda env create -f local_env.yml\n",
    "conda activate depedency_parser\n",
    "```"
   ]
  },
  {
   "cell_type": "markdown",
   "id": "d2ae1d45-7763-45eb-989d-b69950727477",
   "metadata": {
    "jp-MarkdownHeadingCollapsed": true,
    "tags": []
   },
   "source": [
    "## Dataset\n",
    "\n",
    "For this experiment we used `Penn Treebank (annotated with Universal Dependencies)` dataset.\n",
    "\n",
    "The dataset can be found with this repository under `data` folder\n",
    "\n",
    "More details on the dataset can be found [here](https://paperswithcode.com/dataset/penn-treebank)\n"
   ]
  },
  {
   "cell_type": "markdown",
   "id": "d01c1844-76d8-4fc5-998a-fc95fcb5556b",
   "metadata": {},
   "source": [
    "## Usage\n",
    "\n",
    "1. Clone the repository\n",
    "\n",
    "    `git clone https://github.com/shasha3493/Neural-Transition-Based-Dependency-Parser.git`\n",
    "  \n",
    "2. Change to the working directory\n",
    "\n",
    "    `cd Neural-Transition-Based-Dependency-Parser`\n",
    "    \n",
    "3. To train the model \n",
    "    \n",
    "    `python run.py`\n"
   ]
  },
  {
   "cell_type": "markdown",
   "id": "b2796ce6-32f5-4954-85b9-781e9cfa852f",
   "metadata": {},
   "source": [
    "## Algorithm\n",
    "\n",
    "![image.png](images/algorithm.png)\n",
    "\n",
    "First, the model extracts a feature vector representing the current state. We will be using the feature set presented in the original neural dependency parsing paper: [A Fast and Accurate Dependency Parser using Neural Networks](https://nlp.stanford.edu/pubs/emnlp2014-depparser.pdf). This feature vector consists of a list of tokens (e.g., the last word in the stack, first word in the buffer, dependent of the second-to-last word in the stack if there\n",
    "is one, etc.) and predicts one of the three transitions to be applied to the partial parsed sentence\n"
   ]
  },
  {
   "cell_type": "markdown",
   "id": "abbf9906-665d-41d6-831e-b87f58beee0a",
   "metadata": {},
   "source": [
    "## Results\n",
    "\n",
    "We used UAS score as our evaluation metric. UAS refers to **Unlabeled Attachment Score**, which is computed as the ratio between number of correctly predicted dependencies and the number of total dependencies despite of the relations \n",
    "\n",
    "**UAS score on dev set: 88.62**\n",
    "\n",
    "**UAS score on test set: 88.98**"
   ]
  },
  {
   "cell_type": "code",
   "execution_count": null,
   "id": "351bd895-6f9d-403c-84b3-c34fb19b06f1",
   "metadata": {},
   "outputs": [],
   "source": []
  }
 ],
 "metadata": {
  "environment": {
   "kernel": "python3",
   "name": "pytorch-gpu.1-12.m102",
   "type": "gcloud",
   "uri": "gcr.io/deeplearning-platform-release/pytorch-gpu.1-12:m102"
  },
  "kernelspec": {
   "display_name": "Python 3 (ipykernel)",
   "language": "python",
   "name": "python3"
  },
  "language_info": {
   "codemirror_mode": {
    "name": "ipython",
    "version": 3
   },
   "file_extension": ".py",
   "mimetype": "text/x-python",
   "name": "python",
   "nbconvert_exporter": "python",
   "pygments_lexer": "ipython3",
   "version": "3.7.12"
  }
 },
 "nbformat": 4,
 "nbformat_minor": 5
}
